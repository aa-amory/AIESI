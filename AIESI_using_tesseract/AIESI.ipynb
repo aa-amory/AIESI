{
  "nbformat": 4,
  "nbformat_minor": 0,
  "metadata": {
    "colab": {
      "name": "AIESI.ipynb",
      "provenance": [],
      "collapsed_sections": [],
      "include_colab_link": true
    },
    "kernelspec": {
      "name": "python3",
      "display_name": "Python 3"
    }
  },
  "cells": [
    {
      "cell_type": "markdown",
      "metadata": {
        "id": "view-in-github",
        "colab_type": "text"
      },
      "source": [
        "<a href=\"https://colab.research.google.com/github/aa-amory/AIESI/blob/master/AIESI_using_tesseract/AIESI.ipynb\" target=\"_parent\"><img src=\"https://colab.research.google.com/assets/colab-badge.svg\" alt=\"Open In Colab\"/></a>"
      ]
    },
    {
      "cell_type": "code",
      "metadata": {
        "id": "kqRwxlrgIbPL",
        "colab": {
          "base_uri": "https://localhost:8080/"
        },
        "outputId": "a22e8945-8e59-48f7-d462-16eaf8adc987"
      },
      "source": [
        "import cv2\n",
        "import argparse\n",
        "import numpy as np\n",
        "!pip install opencv-wrapper\n",
        "import opencv_wrapper as cvw\n",
        "from skimage.filters import threshold_local\n",
        "import json\n"
      ],
      "execution_count": 6,
      "outputs": [
        {
          "output_type": "stream",
          "text": [
            "Requirement already satisfied: opencv-wrapper in /usr/local/lib/python3.7/dist-packages (0.2.3)\n",
            "Requirement already satisfied: numpy<=1.16.2 in /usr/local/lib/python3.7/dist-packages (from opencv-wrapper) (1.16.2)\n",
            "Requirement already satisfied: opencv-python<=4.0.1 in /usr/local/lib/python3.7/dist-packages (from opencv-wrapper) (4.0.0.21)\n"
          ],
          "name": "stdout"
        }
      ]
    },
    {
      "cell_type": "code",
      "metadata": {
        "id": "ESOTJjyly1Oy",
        "colab": {
          "base_uri": "https://localhost:8080/",
          "height": 461
        },
        "outputId": "bebc9499-4b94-400b-dfe4-92fc198e3e1d"
      },
      "source": [
        "from google.colab import drive\n",
        "drive.mount('/content/gdrive')\n",
        "\n",
        "!pip install -U git+https://github.com/madmaze/pytesseract.git\n",
        "\n",
        "import pytesseract\n",
        "!sudo apt install tesseract-ocr\n",
        "!pip install colorama"
      ],
      "execution_count": 7,
      "outputs": [
        {
          "output_type": "stream",
          "text": [
            "Drive already mounted at /content/gdrive; to attempt to forcibly remount, call drive.mount(\"/content/gdrive\", force_remount=True).\n",
            "Collecting git+https://github.com/madmaze/pytesseract.git\n",
            "  Cloning https://github.com/madmaze/pytesseract.git to /tmp/pip-req-build-_zg8snx3\n",
            "  Running command git clone -q https://github.com/madmaze/pytesseract.git /tmp/pip-req-build-_zg8snx3\n",
            "Requirement already satisfied, skipping upgrade: Pillow in /usr/local/lib/python3.7/dist-packages (from pytesseract==0.3.7) (7.0.0)\n",
            "Building wheels for collected packages: pytesseract\n",
            "  Building wheel for pytesseract (setup.py) ... \u001b[?25l\u001b[?25hdone\n",
            "  Created wheel for pytesseract: filename=pytesseract-0.3.7-py2.py3-none-any.whl size=14106 sha256=a3ebb872ababb37bca509ed496ec6b7b6ed7a15dffdddf5cc3f8bb4932e2e08a\n",
            "  Stored in directory: /tmp/pip-ephem-wheel-cache-g0b2jslj/wheels/be/2a/a1/a40dbc7e579dffb2be8bbc3243c491de2d132899309f008b1f\n",
            "Successfully built pytesseract\n",
            "Installing collected packages: pytesseract\n",
            "  Found existing installation: pytesseract 0.3.7\n",
            "    Uninstalling pytesseract-0.3.7:\n",
            "      Successfully uninstalled pytesseract-0.3.7\n",
            "Successfully installed pytesseract-0.3.7\n"
          ],
          "name": "stdout"
        },
        {
          "output_type": "display_data",
          "data": {
            "application/vnd.colab-display-data+json": {
              "pip_warning": {
                "packages": [
                  "pytesseract"
                ]
              }
            }
          },
          "metadata": {
            "tags": []
          }
        },
        {
          "output_type": "stream",
          "text": [
            "Reading package lists... Done\n",
            "Building dependency tree       \n",
            "Reading state information... Done\n",
            "tesseract-ocr is already the newest version (4.00~git2288-10f4998a-2).\n",
            "0 upgraded, 0 newly installed, 0 to remove and 29 not upgraded.\n",
            "Requirement already satisfied: colorama in /usr/local/lib/python3.7/dist-packages (0.4.4)\n"
          ],
          "name": "stdout"
        }
      ]
    },
    {
      "cell_type": "code",
      "metadata": {
        "id": "HzyjJFXwAYAm"
      },
      "source": [
        ""
      ],
      "execution_count": null,
      "outputs": []
    },
    {
      "cell_type": "code",
      "metadata": {
        "id": "jErwKuqjy-C3"
      },
      "source": [
        "\n",
        "# ap = argparse.ArgumentParser()\n",
        "# ap.add_argument(\"-i\", \"--image\", required = True, help = \"Path to the image to be scanned\")\n",
        "# ap.add_argument(\"-o\", \"--output\", required = True, help = \"Path to the image to be scanned\")\n",
        "# args = vars(ap.parse_args())\n",
        "\n",
        "\n",
        "def get_acc(directory, path):\n",
        "    font     = cv2.FONT_HERSHEY_SIMPLEX\n",
        "    fontScale = 0.5\n",
        "    fontColor  = (255,0,0)\n",
        "    lineType = 1\n",
        "    path = directory+path\n",
        "    # path = args['image']\n",
        "    # op_path = args['output']\n",
        "\n",
        "    op_path = directory\n",
        "    if op_path[-1]!='/':\n",
        "    \top_path.append('/')\n",
        "\n",
        "\n",
        "    #Threshold\n",
        "    image = cv2.imread(path)\n",
        "\n",
        "    height,width,channel = image.shape\n",
        "\n",
        "    gray = cv2.cvtColor(image, cv2.COLOR_BGR2GRAY)\n",
        "\n",
        "    T = threshold_local(gray, 15, offset = 6, method = \"gaussian\") # generic, mean, median, gaussian\n",
        "    thresh = (gray > T).astype(\"uint8\") * 255\n",
        "    thresh = ~thresh\n",
        "\n",
        "    #cv2.imwrite(op_path+'threshold.png', thresh)\n",
        "\n",
        "    #Dilation\n",
        "    kernel =np.ones((1,1), np.uint8)\n",
        "    ero = cv2.erode(thresh, kernel, iterations= 1)\n",
        "    img_dilation = cv2.dilate(ero, kernel, iterations=1)\n",
        "    #cv2.imwrite(op_path+'dilated.png', img_dilation)\n",
        "\n",
        "    # Remove noise\n",
        "    nlabels, labels, stats, centroids = cv2.connectedComponentsWithStats(img_dilation, None, None, None, 8, cv2.CV_32S)\n",
        "    sizes = stats[1:, -1] #get CC_STAT_AREA component\n",
        "    final = np.zeros((labels.shape), np.uint8)\n",
        "    for i in range(0, nlabels - 1):\n",
        "        if sizes[i] >= 10:   #filter small dotted regions\n",
        "            final[labels == i + 1] = 255\n",
        "    #cv2.imwrite(op_path+'final.png', final)\n",
        "    #Find contours\n",
        "    kern = np.ones((5,15), np.uint8)\n",
        "    img_dilation = cv2.dilate(final, kern, iterations = 1)\n",
        "    #cv2.imwrite(op_path+'contours.png', img_dilation)\n",
        "    contours, hierarchy = cv2.findContours(img_dilation, cv2.RETR_LIST, cv2.CHAIN_APPROX_NONE)\n",
        "    # Map contours to bounding rectangles, using bounding_rect property\n",
        "    rects = map(lambda c: cv2.boundingRect(c), contours)\n",
        "    # Sort rects by top-left x (rect.x == rect.tl.x)\n",
        "    sorted_rects = sorted(rects, key =lambda r: r[0])\n",
        "    sorted_rects = sorted(sorted_rects, key =lambda r: r[1])\n",
        "\n",
        "    tt = image.copy()\n",
        "    dictionary = {}\n",
        "    etfo=''\n",
        "    for i,rect in enumerate(sorted_rects):\n",
        "        temp_dic = {}\n",
        "        x,y,w,h = rect\n",
        "        if(w<20 or h<20):\n",
        "            continue\n",
        "        temp_dic['coords'] = [x,y,w,h]\n",
        "        words = []\n",
        "        temp = tt[y:y+h, x:x+w]\n",
        "        #cv2.imwrite('/content/gdrive/My Drive/ResearchPaper/AIESI_complete_pipeline/temp/'+str(i)+'.png',temp)\n",
        "        temp = cv2.cvtColor(temp, cv2.COLOR_BGR2RGB)\n",
        "        hi = pytesseract.image_to_data(temp, config=r'--psm 6')\n",
        "        hi = hi.split()\n",
        "        ind = 22\n",
        "        while(True):\n",
        "            if (ind>len(hi)):\n",
        "                break\n",
        "            if(int(hi[ind])==-1):\n",
        "                ind+=11\n",
        "            else:\n",
        "                #cv2.putText(image,hi[ind]+','+hi[ind+1], (x,y), font, fontScale,fontColor,lineType)\n",
        "                tem = {}\n",
        "                tem['confidence'] = hi[ind]\n",
        "                tem['text'] = hi[ind+1]\n",
        "                etfo=etfo+hi[ind+1]\n",
        "                etfo=etfo+\" \"\n",
        "                x+=len(hi[ind+1])*20\n",
        "                ind+=12\n",
        "                words.append(tem)\n",
        "        temp_dic['words'] = words\n",
        "        etfo=etfo+'\\n'\n",
        "        #cvw.rectangle(image, rect, cvw.Color.GREEN, thickness=1)\n",
        "        dictionary[i] = temp_dic\n",
        "\n",
        "\n",
        "    cv2.imwrite(op_path+\"result.png\", image)\n",
        "    return json.dumps(dictionary),etfo\n"
      ],
      "execution_count": null,
      "outputs": []
    },
    {
      "cell_type": "code",
      "metadata": {
        "id": "s2aVUPge8y0S",
        "colab": {
          "base_uri": "https://localhost:8080/",
          "height": 54
        },
        "outputId": "54c40ff7-6aad-401a-80ea-efa1aadb8282"
      },
      "source": [
        "\n",
        "gson_data, etfo = get_acc('/content/gdrive/My Drive/ResearchPaper/AIESI_complete_pipeline/sample/','hello.png')\n",
        "print(gson_data)\n"
      ],
      "execution_count": null,
      "outputs": [
        {
          "output_type": "stream",
          "text": [
            "{\"0\": {\"coords\": [278, 27, 145, 76], \"words\": [{\"confidence\": \"93\", \"text\": \"chay\"}]}, \"1\": {\"coords\": [165, 34, 104, 44], \"words\": [{\"confidence\": \"95\", \"text\": \"tan\"}]}, \"2\": {\"coords\": [411, 43, 127, 66], \"words\": [{\"confidence\": \"65\", \"text\": \"yee\"}]}, \"9\": {\"coords\": [303, 155, 169, 32], \"words\": [{\"confidence\": \"93\", \"text\": \"COPY\"}, {\"confidence\": \"93\", \"text\": \"***\"}]}, \"10\": {\"coords\": [232, 156, 70, 22], \"words\": [{\"confidence\": \"0\", \"text\": \"KK\"}]}, \"12\": {\"coords\": [141, 192, 346, 32], \"words\": [{\"confidence\": \"85\", \"text\": \"OJC\"}, {\"confidence\": \"96\", \"text\": \"MARKETING\"}, {\"confidence\": \"96\", \"text\": \"SDN\"}]}, \"13\": {\"coords\": [489, 195, 76, 29], \"words\": [{\"confidence\": \"96\", \"text\": \"BHD\"}]}, \"17\": {\"coords\": [213, 236, 281, 28], \"words\": [{\"confidence\": \"94\", \"text\": \"ROC\"}, {\"confidence\": \"90\", \"text\": \"NO:\"}, {\"confidence\": \"84\", \"text\": \"538358-H\"}]}, \"19\": {\"coords\": [179, 274, 347, 33], \"words\": [{\"confidence\": \"93\", \"text\": \"NO\"}, {\"confidence\": \"80\", \"text\": \"2\"}, {\"confidence\": \"80\", \"text\": \"&\"}, {\"confidence\": \"95\", \"text\": \"4,\"}, {\"confidence\": \"93\", \"text\": \"JALAN\"}, {\"confidence\": \"89\", \"text\": \"BAYU\"}, {\"confidence\": \"96\", \"text\": \"4,\"}]}, \"23\": {\"coords\": [210, 310, 285, 33], \"words\": [{\"confidence\": \"88\", \"text\": \"BANDAR\"}, {\"confidence\": \"90\", \"text\": \"SERI\"}, {\"confidence\": \"95\", \"text\": \"ALAM,\"}]}, \"26\": {\"coords\": [193, 344, 312, 37], \"words\": [{\"confidence\": \"89\", \"text\": \"81750\"}, {\"confidence\": \"96\", \"text\": \"MASAI,\"}, {\"confidence\": \"96\", \"text\": \"JOHOR\"}]}, \"29\": {\"coords\": [117, 383, 467, 31], \"words\": [{\"confidence\": \"90\", \"text\": \"Tel:07-388\"}, {\"confidence\": \"92\", \"text\": \"2218\"}, {\"confidence\": \"86\", \"text\": \"Fax:07-388\"}, {\"confidence\": \"96\", \"text\": \"8218\"}]}, \"34\": {\"coords\": [185, 421, 336, 35], \"words\": [{\"confidence\": \"93\", \"text\": \"Email:\"}, {\"confidence\": \"82\", \"text\": \"ng@ojcgroup.cam\"}]}, \"37\": {\"coords\": [245, 498, 215, 29], \"words\": [{\"confidence\": \"92\", \"text\": \"TAX\"}, {\"confidence\": \"92\", \"text\": \"INVOICE\"}]}, \"41\": {\"coords\": [35, 554, 149, 29], \"words\": [{\"confidence\": \"96\", \"text\": \"Invoice\"}, {\"confidence\": \"96\", \"text\": \"No\"}]}, \"42\": {\"coords\": [200, 555, 239, 28], \"words\": [{\"confidence\": \"65\", \"text\": \"*\"}, {\"confidence\": \"88\", \"text\": \"PEGIV-1030765\"}]}, \"45\": {\"coords\": [200, 591, 184, 34], \"words\": [{\"confidence\": \"78\", \"text\": \":\"}, {\"confidence\": \"96\", \"text\": \"15/01/2019\"}]}, \"46\": {\"coords\": [385, 592, 179, 30], \"words\": [{\"confidence\": \"93\", \"text\": \"11:05:16\"}, {\"confidence\": \"95\", \"text\": \"AM\"}]}, \"47\": {\"coords\": [36, 594, 71, 27], \"words\": [{\"confidence\": \"96\", \"text\": \"Date\"}]}, \"50\": {\"coords\": [200, 627, 235, 31], \"words\": [{\"confidence\": \"62\", \"text\": \":\"}, {\"confidence\": \"95\", \"text\": \"NG\"}, {\"confidence\": \"96\", \"text\": \"CHUAN\"}, {\"confidence\": \"96\", \"text\": \"MIN\"}]}, \"51\": {\"coords\": [34, 631, 109, 28], \"words\": [{\"confidence\": \"95\", \"text\": \"Cashier\"}]}, \"54\": {\"coords\": [34, 669, 275, 28], \"words\": [{\"confidence\": \"92\", \"text\": \"Sales\"}, {\"confidence\": \"84\", \"text\": \"Persor\"}, {\"confidence\": \"85\", \"text\": \":\"}, {\"confidence\": \"91\", \"text\": \"FATIN\"}]}, \"56\": {\"coords\": [36, 704, 89, 37], \"words\": [{\"confidence\": \"94\", \"text\": \"Bill\"}, {\"confidence\": \"94\", \"text\": \"To\"}]}, \"57\": {\"coords\": [200, 705, 438, 32], \"words\": [{\"confidence\": \"78\", \"text\": \":\"}, {\"confidence\": \"95\", \"text\": \"THE\"}, {\"confidence\": \"95\", \"text\": \"PEAK\"}, {\"confidence\": \"95\", \"text\": \"QUARRY\"}, {\"confidence\": \"96\", \"text\": \"WORKS\"}]}, \"61\": {\"coords\": [33, 760, 116, 29], \"words\": [{\"confidence\": \"95\", \"text\": \"Address\"}]}, \"67\": {\"coords\": [8, 908, 671, 36], \"words\": [{\"confidence\": \"48\", \"text\": \"_Description\"}, {\"confidence\": \"54\", \"text\": \"ss\"}, {\"confidence\": \"54\", \"text\": \"Oty,\"}, {\"confidence\": \"47\", \"text\": \"Price\"}, {\"confidence\": \"40\", \"text\": \"=\"}, {\"confidence\": \"45\", \"text\": \"Amount\"}]}, \"68\": {\"coords\": [30, 945, 149, 34], \"words\": [{\"confidence\": \"94\", \"text\": \"000000111\"}]}, \"69\": {\"coords\": [370, 945, 102, 28], \"words\": [{\"confidence\": \"78\", \"text\": \"193,00\"}]}, \"70\": {\"coords\": [337, 946, 24, 26], \"words\": [{\"confidence\": \"44\", \"text\": \"1\"}]}, \"71\": {\"coords\": [517, 947, 149, 26], \"words\": [{\"confidence\": \"94\", \"text\": \"193.00\"}, {\"confidence\": \"93\", \"text\": \"SR\"}]}, \"72\": {\"coords\": [30, 989, 414, 31], \"words\": [{\"confidence\": \"96\", \"text\": \"KINGS\"}, {\"confidence\": \"96\", \"text\": \"SAFETY\"}, {\"confidence\": \"93\", \"text\": \"SHOES\"}, {\"confidence\": \"92\", \"text\": \"KWD\"}, {\"confidence\": \"90\", \"text\": \"805\"}]}, \"76\": {\"coords\": [9, 1046, 670, 40], \"words\": [{\"confidence\": \"1\", \"text\": \"\\u201cOty:\"}, {\"confidence\": \"1\", \"text\": \"1.\"}, {\"confidence\": \"51\", \"text\": \"TotalExclude\"}, {\"confidence\": \"65\", \"text\": \"GST:\"}, {\"confidence\": \"51\", \"text\": \"+\"}, {\"confidence\": \"0\", \"text\": \"+193.00\"}]}, \"77\": {\"coords\": [35, 1058, 88, 33], \"words\": [{\"confidence\": \"65\", \"text\": \"Qty:\"}, {\"confidence\": \"65\", \"text\": \"1\"}]}, \"78\": {\"coords\": [517, 1058, 102, 37], \"words\": [{\"confidence\": \"81\", \"text\": \"133.00\"}]}, \"82\": {\"coords\": [204, 1093, 231, 32], \"words\": [{\"confidence\": \"95\", \"text\": \"Total\"}, {\"confidence\": \"90\", \"text\": \"GST\"}, {\"confidence\": \"90\", \"text\": \"@6%:\"}]}, \"83\": {\"coords\": [549, 1096, 70, 27], \"words\": [{\"confidence\": \"89\", \"text\": \"0.00\"}]}, \"84\": {\"coords\": [162, 1126, 275, 35], \"words\": [{\"confidence\": \"95\", \"text\": \"Total\"}, {\"confidence\": \"95\", \"text\": \"Inclusive\"}, {\"confidence\": \"96\", \"text\": \"GST:\"}]}, \"85\": {\"coords\": [517, 1132, 102, 28], \"words\": [{\"confidence\": \"94\", \"text\": \"193.00\"}]}, \"90\": {\"coords\": [46, 1162, 610, 42], \"words\": [{\"confidence\": \"31\", \"text\": \"ee\"}, {\"confidence\": \"0\", \"text\": \"eae\"}, {\"confidence\": \"11\", \"text\": \"OU\"}, {\"confidence\": \"0\", \"text\": \"EL\"}, {\"confidence\": \"25\", \"text\": \"AM\"}, {\"confidence\": \"25\", \"text\": \"ber\"}, {\"confidence\": \"9\", \"text\": \"acces\"}, {\"confidence\": \"21\", \"text\": \"OO\"}, {\"confidence\": \"0\", \"text\": \"t.\"}]}, \"91\": {\"coords\": [289, 1208, 126, 34], \"words\": [{\"confidence\": \"96\", \"text\": \"TOTAL:\"}]}, \"92\": {\"coords\": [495, 1210, 133, 32], \"words\": [{\"confidence\": \"89\", \"text\": \"193,00\"}]}, \"98\": {\"coords\": [241, 1262, 159, 27], \"words\": [{\"confidence\": \"95\", \"text\": \"VISA\"}, {\"confidence\": \"96\", \"text\": \"CARD\"}]}, \"99\": {\"coords\": [475, 1263, 228, 183], \"words\": [{\"confidence\": \"40\", \"text\": \"(9-0)\"}]}, \"101\": {\"coords\": [510, 1278, 176, 162], \"words\": [{\"confidence\": \"25\", \"text\": \"fons\"}, {\"confidence\": \"72\", \"text\": \"3-00\"}]}, \"102\": {\"coords\": [150, 1297, 249, 29], \"words\": [{\"confidence\": \"0\", \"text\": \"WO0C0O0K0000K4\"}, {\"confidence\": \"46\", \"text\": \"3\"}, {\"confidence\": \"46\", \"text\": \"1B\"}]}, \"103\": {\"coords\": [138, 1335, 261, 33], \"words\": [{\"confidence\": \"93\", \"text\": \"Approval\"}, {\"confidence\": \"91\", \"text\": \"Code:000\"}]}, \"108\": {\"coords\": [45, 1465, 600, 29], \"words\": [{\"confidence\": \"95\", \"text\": \"Goods\"}, {\"confidence\": \"95\", \"text\": \"Sold\"}, {\"confidence\": \"96\", \"text\": \"Are\"}, {\"confidence\": \"93\", \"text\": \"Not\"}, {\"confidence\": \"90\", \"text\": \"Returnable\"}, {\"confidence\": \"91\", \"text\": \"&\"}, {\"confidence\": \"95\", \"text\": \"Refundable\"}]}, \"110\": {\"coords\": [70, 1497, 553, 36], \"words\": [{\"confidence\": \"28\", \"text\": \"*+*+4+Thank\"}, {\"confidence\": \"94\", \"text\": \"You.\"}, {\"confidence\": \"96\", \"text\": \"Please\"}, {\"confidence\": \"93\", \"text\": \"Come\"}, {\"confidence\": \"41\", \"text\": \"Again,+***\"}]}}\n"
          ],
          "name": "stdout"
        }
      ]
    },
    {
      "cell_type": "code",
      "metadata": {
        "id": "Q-pl_BhaGlVT"
      },
      "source": [
        ""
      ],
      "execution_count": null,
      "outputs": []
    },
    {
      "cell_type": "code",
      "metadata": {
        "id": "XgPaAy8tzHyq"
      },
      "source": [
        "import argparse\n",
        "import torch\n",
        "import json\n",
        "from torch import nn"
      ],
      "execution_count": null,
      "outputs": []
    },
    {
      "cell_type": "code",
      "metadata": {
        "id": "LsDHbMbczUlM"
      },
      "source": [
        "class MyModel0(nn.Module):\n",
        "    def __init__(self, vocab_size, embed_size, hidden_size):\n",
        "        super().__init__()\n",
        "        self.embed = nn.Embedding(vocab_size, embed_size)\n",
        "        self.lstm = nn.LSTM(embed_size, hidden_size, num_layers=2, bidirectional=True)\n",
        "        self.linear = nn.Linear(hidden_size * 2, 5)\n",
        "\n",
        "    def forward(self, inpt):\n",
        "        embedded = self.embed(inpt)\n",
        "        feature, _ = self.lstm(embedded)\n",
        "        oupt = self.linear(feature)\n",
        "        return oupt\n"
      ],
      "execution_count": null,
      "outputs": []
    },
    {
      "cell_type": "markdown",
      "metadata": {
        "id": "qbs9mVYOziyI"
      },
      "source": [
        "### Hyper- parameters"
      ]
    },
    {
      "cell_type": "code",
      "metadata": {
        "id": "x3YGzBc9zh9g"
      },
      "source": [
        "device= 'cpu'\n",
        "hidden_size = 256\n",
        "\n",
        "device= torch.device('cpu')"
      ],
      "execution_count": null,
      "outputs": []
    },
    {
      "cell_type": "code",
      "metadata": {
        "id": "_ViR8cdl9bAA",
        "colab": {
          "base_uri": "https://localhost:8080/",
          "height": 34
        },
        "outputId": "d267c579-306d-407d-fc82-c2892d346f60"
      },
      "source": [
        "!pip install colorama"
      ],
      "execution_count": null,
      "outputs": [
        {
          "output_type": "stream",
          "text": [
            "Requirement already satisfied: colorama in /usr/local/lib/python3.6/dist-packages (0.4.3)\n"
          ],
          "name": "stdout"
        }
      ]
    },
    {
      "cell_type": "code",
      "metadata": {
        "id": "Sq5eXyUgz48Q"
      },
      "source": [
        "import json\n",
        "import os\n",
        "import random\n",
        "from os import path\n",
        "from string import ascii_uppercase, digits, punctuation\n",
        "\n",
        "import colorama\n",
        "import numpy\n",
        "import regex\n"
      ],
      "execution_count": null,
      "outputs": []
    },
    {
      "cell_type": "code",
      "metadata": {
        "id": "3a8y21Vcz9rg"
      },
      "source": [
        "VOCAB= ascii_uppercase+digits+punctuation+\" \\t\\n\"\n"
      ],
      "execution_count": null,
      "outputs": []
    },
    {
      "cell_type": "code",
      "metadata": {
        "id": "J46vPsECGmpi",
        "colab": {
          "base_uri": "https://localhost:8080/",
          "height": 850
        },
        "outputId": "f8c72193-5127-4412-d776-21458479175c"
      },
      "source": [
        "print(etfo)"
      ],
      "execution_count": null,
      "outputs": [
        {
          "output_type": "stream",
          "text": [
            "chay \n",
            "tan \n",
            "yee \n",
            "COPY *** \n",
            "KK \n",
            "OJC MARKETING SDN \n",
            "BHD \n",
            "ROC NO: 538358-H \n",
            "NO 2 & 4, JALAN BAYU 4, \n",
            "BANDAR SERI ALAM, \n",
            "81750 MASAI, JOHOR \n",
            "Tel:07-388 2218 Fax:07-388 8218 \n",
            "Email: ng@ojcgroup.cam \n",
            "TAX INVOICE \n",
            "Invoice No \n",
            "* PEGIV-1030765 \n",
            ": 15/01/2019 \n",
            "11:05:16 AM \n",
            "Date \n",
            ": NG CHUAN MIN \n",
            "Cashier \n",
            "Sales Persor : FATIN \n",
            "Bill To \n",
            ": THE PEAK QUARRY WORKS \n",
            "Address \n",
            "_Description ss Oty, Price = Amount \n",
            "000000111 \n",
            "193,00 \n",
            "1 \n",
            "193.00 SR \n",
            "KINGS SAFETY SHOES KWD 805 \n",
            "“Oty: 1. TotalExclude GST: + +193.00 \n",
            "Qty: 1 \n",
            "133.00 \n",
            "Total GST @6%: \n",
            "0.00 \n",
            "Total Inclusive GST: \n",
            "193.00 \n",
            "ee eae OU EL AM ber acces OO t. \n",
            "TOTAL: \n",
            "193,00 \n",
            "VISA CARD \n",
            "(9-0) \n",
            "fons 3-00 \n",
            "WO0C0O0K0000K4 3 1B \n",
            "Approval Code:000 \n",
            "Goods Sold Are Not Returnable & Refundable \n",
            "*+*+4+Thank You. Please Come Again,+*** \n",
            "\n"
          ],
          "name": "stdout"
        }
      ]
    },
    {
      "cell_type": "code",
      "metadata": {
        "id": "U80WIAovZFB-"
      },
      "source": [
        "temp_text=''\n",
        "for i in range(664):\n",
        "    temp_text=temp_text+etfo[i]\n",
        "etfo=temp_text"
      ],
      "execution_count": null,
      "outputs": []
    },
    {
      "cell_type": "code",
      "metadata": {
        "id": "pvvOZvt_JNej",
        "colab": {
          "base_uri": "https://localhost:8080/",
          "height": 799
        },
        "outputId": "5c8c5984-2d36-4175-871b-471933a5b34f"
      },
      "source": [
        "# conver lower text to uppper text in ETFO\n",
        "etfo= etfo.upper()\n",
        "print(etfo)\n",
        "\n"
      ],
      "execution_count": null,
      "outputs": [
        {
          "output_type": "stream",
          "text": [
            "CHAY \n",
            "TAN \n",
            "YEE \n",
            "COPY *** \n",
            "KK \n",
            "OJC MARKETING SDN \n",
            "BHD \n",
            "ROC NO: 538358-H \n",
            "NO 2 & 4, JALAN BAYU 4, \n",
            "BANDAR SERI ALAM, \n",
            "81750 MASAI, JOHOR \n",
            "TEL:07-388 2218 FAX:07-388 8218 \n",
            "EMAIL: NG@OJCGROUP.CAM \n",
            "TAX INVOICE \n",
            "INVOICE NO \n",
            "* PEGIV-1030765 \n",
            ": 15/01/2019 \n",
            "11:05:16 AM \n",
            "DATE \n",
            ": NG CHUAN MIN \n",
            "CASHIER \n",
            "SALES PERSOR : FATIN \n",
            "BILL TO \n",
            ": THE PEAK QUARRY WORKS \n",
            "ADDRESS \n",
            "_DESCRIPTION SS OTY, PRICE = AMOUNT \n",
            "000000111 \n",
            "193,00 \n",
            "1 \n",
            "193.00 SR \n",
            "KINGS SAFETY SHOES KWD 805 \n",
            "“OTY: 1. TOTALEXCLUDE GST: + +193.00 \n",
            "QTY: 1 \n",
            "133.00 \n",
            "TOTAL GST @6%: \n",
            "0.00 \n",
            "TOTAL INCLUSIVE GST: \n",
            "193.00 \n",
            "EE EAE OU EL AM BER ACCES OO T. \n",
            "TOTAL: \n",
            "193,00 \n",
            "VISA CARD \n",
            "(9-0) \n",
            "FONS 3-00 \n",
            "WO0C0O0K0000K4 3 1B \n",
            "APP\n"
          ],
          "name": "stdout"
        }
      ]
    },
    {
      "cell_type": "code",
      "metadata": {
        "id": "a74b3-A92YJ9"
      },
      "source": [
        "def get_test_data():\n",
        "    \n",
        "    text = etfo\n",
        "    text_tensor = torch.zeros(len(text), 1, dtype=torch.long)\n",
        "    text_tensor[:, 0] = torch.LongTensor([VOCAB.find(c) for c in text])\n",
        "\n",
        "    return text_tensor.to(device)\n",
        "\n",
        "text_tensor = get_test_data()\n"
      ],
      "execution_count": null,
      "outputs": []
    },
    {
      "cell_type": "code",
      "metadata": {
        "id": "c5VRkcMWZNGz",
        "colab": {
          "base_uri": "https://localhost:8080/",
          "height": 34
        },
        "outputId": "befcca75-4ad2-46f4-e3f9-e2a873264d53"
      },
      "source": [
        "print(text_tensor.shape)"
      ],
      "execution_count": null,
      "outputs": [
        {
          "output_type": "stream",
          "text": [
            "torch.Size([664, 1])\n"
          ],
          "name": "stdout"
        }
      ]
    },
    {
      "cell_type": "code",
      "metadata": {
        "id": "SVY1sh_07jpC"
      },
      "source": [
        "def pred_to_dict(text, pred, prob):\n",
        "    res = {\"company\": (\"\", 0), \"date\": (\"\", 0), \"address\": (\"\", 0), \"total\": (\"\", 0)}\n",
        "    keys = list(res.keys())\n",
        "\n",
        "    seps = [0] + (numpy.nonzero(numpy.diff(pred))[0] + 1).tolist() + [len(pred)]\n",
        "    for i in range(len(seps) - 1):\n",
        "        pred_class = pred[seps[i]] - 1\n",
        "        if pred_class == -1:\n",
        "            continue\n",
        "\n",
        "        new_key = keys[pred_class]\n",
        "        new_prob = prob[seps[i] : seps[i + 1]].max()\n",
        "        if new_prob > res[new_key][1]:\n",
        "            res[new_key] = (text[seps[i] : seps[i + 1]], new_prob)\n",
        "\n",
        "    return {k: regex.sub(r\"[\\t\\n]\", \" \", v[0].strip()) for k, v in res.items()}\n"
      ],
      "execution_count": null,
      "outputs": []
    },
    {
      "cell_type": "code",
      "metadata": {
        "id": "uik49ehFV__h",
        "colab": {
          "base_uri": "https://localhost:8080/",
          "height": 34
        },
        "outputId": "ad3009ab-cdc7-4846-a820-fac16b9afa05"
      },
      "source": [
        "print(text_tensor.shape)\n",
        "for i in range(len(text_tensor)-1):\n",
        "  if text_tensor[i]<0 or text_tensor[i]>70:\n",
        "    text_tensor = torch.cat([text_tensor[0:i], text_tensor[i+1:]])"
      ],
      "execution_count": null,
      "outputs": [
        {
          "output_type": "stream",
          "text": [
            "torch.Size([664, 1])\n"
          ],
          "name": "stdout"
        }
      ]
    },
    {
      "cell_type": "code",
      "metadata": {
        "id": "tAn7cPBhzec4",
        "colab": {
          "base_uri": "https://localhost:8080/",
          "height": 54
        },
        "outputId": "10575f2b-b5e9-44fd-aa39-802eba3b816a"
      },
      "source": [
        "\n",
        "def test():\n",
        "    \n",
        "    model = MyModel0(len(VOCAB), 16, hidden_size).to(device)\n",
        "    # dataset = MyDataset(None, args.device, test_path=\"/content/gdrive/My Drive/ResearchPaper/KIPE/data/test_dict.pth\")\n",
        "\n",
        "    model.load_state_dict(torch.load(\"/content/gdrive/My Drive/ResearchPaper/KIPE/src/model.pth\"))\n",
        "\n",
        "    model.eval()\n",
        "  \n",
        "    with torch.no_grad():\n",
        "            oupt = model(text_tensor)\n",
        "            prob = torch.nn.functional.softmax(oupt, dim=2)\n",
        "            prob, pred = torch.max(prob, dim=2)\n",
        "            prob = prob.squeeze().cpu().numpy()\n",
        "            pred = pred.squeeze().cpu().numpy()\n",
        "            real_text = etfo\n",
        "            result = pred_to_dict(real_text, pred, prob)\n",
        "\n",
        "            with open(\"/content/gdrive/My Drive/ResearchPaper/AIESI_complete_pipeline/result\" + 'result' + \".json\", \"w\", encoding=\"utf-8\") as json_opened:\n",
        "                json.dump(result, json_opened, indent=4)\n",
        "\n",
        "            print(result)\n",
        "            #print(key)\n",
        "\n",
        "\n",
        "if __name__ == \"__main__\":\n",
        "    test()"
      ],
      "execution_count": null,
      "outputs": [
        {
          "output_type": "stream",
          "text": [
            "{'company': 'KK  OJC MARKETING SDN  BHD', 'date': '01', 'address': 'NO 2 & 4, JALAN BAYU 4,  BANDAR SERI ALAM,  81750 MASAI, JOHOR', 'total': '133.0'}\n"
          ],
          "name": "stdout"
        }
      ]
    },
    {
      "cell_type": "code",
      "metadata": {
        "id": "WkyHV8TSIVNx"
      },
      "source": [
        ""
      ],
      "execution_count": null,
      "outputs": []
    }
  ]
}