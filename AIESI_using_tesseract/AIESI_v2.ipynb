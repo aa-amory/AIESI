{
  "nbformat": 4,
  "nbformat_minor": 0,
  "metadata": {
    "colab": {
      "name": "AIESI.ipynb",
      "provenance": [],
      "collapsed_sections": []
    },
    "kernelspec": {
      "name": "python3",
      "display_name": "Python 3"
    }
  },
  "cells": [
    {
      "cell_type": "code",
      "metadata": {
        "colab": {
          "base_uri": "https://localhost:8080/"
        },
        "id": "yZywuWnSGi1j",
        "outputId": "80785d27-f14c-4a3b-dc16-375b8e200f8f"
      },
      "source": [
        "!git pull https://github.com/aa-amory/AIESI.git"
      ],
      "execution_count": 4,
      "outputs": [
        {
          "output_type": "stream",
          "text": [
            "fatal: not a git repository (or any of the parent directories): .git\n"
          ],
          "name": "stdout"
        }
      ]
    },
    {
      "cell_type": "markdown",
      "metadata": {
        "id": "RyWX5xThdy5O"
      },
      "source": [
        "\r\n",
        "\r\n",
        "```\r\n",
        "# This is formatted as code\r\n",
        "```\r\n",
        "\r\n",
        "# PIP all required lib"
      ]
    },
    {
      "cell_type": "code",
      "metadata": {
        "id": "VgFm5iIEdZ5o"
      },
      "source": [
        "!git pull https://github.com/aa-amory/AIESI.git\r\n",
        "!pip install -U git+https://github.com/madmaze/pytesseract.git\r\n",
        "!sudo apt install tesseract-ocr\r\n",
        "!pip install colorama\r\n"
      ],
      "execution_count": null,
      "outputs": []
    },
    {
      "cell_type": "markdown",
      "metadata": {
        "id": "qbs9mVYOziyI"
      },
      "source": [
        "### Hyper- parameters"
      ]
    },
    {
      "cell_type": "code",
      "metadata": {
        "id": "x3YGzBc9zh9g"
      },
      "source": [
        "device= 'cpu'\n",
        "hidden_size = 256\n",
        "\n",
        "device= torch.device('cpu')"
      ],
      "execution_count": 43,
      "outputs": []
    },
    {
      "cell_type": "markdown",
      "metadata": {
        "id": "_NLchCHPeO89"
      },
      "source": [
        "# full code"
      ]
    },
    {
      "cell_type": "code",
      "metadata": {
        "id": "-5UecDajfpVT"
      },
      "source": [
        "import json\r\n",
        "import os\r\n",
        "import random\r\n",
        "from os import path\r\n",
        "from string import ascii_uppercase, digits, punctuation\r\n",
        "import colorama\r\n",
        "import regex\r\n",
        "import torch\r\n",
        "from torch import nn\r\n",
        "import pytesseract\r\n",
        "import cv2\r\n",
        "import argparse\r\n",
        "import numpy as np\r\n",
        "import opencv_wrapper as cvw\r\n",
        "from skimage.filters import threshold_local\r\n",
        "\r\n",
        "def get_acc(directory, path):\r\n",
        "    font     = cv2.FONT_HERSHEY_SIMPLEX\r\n",
        "    fontScale = 0.5\r\n",
        "    fontColor  = (255,0,0)\r\n",
        "    lineType = 1\r\n",
        "    path = directory+path\r\n",
        "    # path = args['image']\r\n",
        "    # op_path = args['output']\r\n",
        "\r\n",
        "    op_path = directory\r\n",
        "    if op_path[-1]!='/':\r\n",
        "    \top_path.append('/')\r\n",
        "\r\n",
        "\r\n",
        "    #Threshold\r\n",
        "    image = cv2.imread(path)\r\n",
        "\r\n",
        "    height,width,channel = image.shape\r\n",
        "\r\n",
        "    gray = cv2.cvtColor(image, cv2.COLOR_BGR2GRAY)\r\n",
        "\r\n",
        "    T = threshold_local(gray, 15, offset = 6, method = \"gaussian\") # generic, mean, median, gaussian\r\n",
        "    thresh = (gray > T).astype(\"uint8\") * 255\r\n",
        "    thresh = ~thresh\r\n",
        "\r\n",
        "    #cv2.imwrite(op_path+'threshold.png', thresh)\r\n",
        "\r\n",
        "    #Dilation\r\n",
        "    kernel =np.ones((1,1), np.uint8)\r\n",
        "    ero = cv2.erode(thresh, kernel, iterations= 1)\r\n",
        "    img_dilation = cv2.dilate(ero, kernel, iterations=1)\r\n",
        "    #cv2.imwrite(op_path+'dilated.png', img_dilation)\r\n",
        "\r\n",
        "    # Remove noise\r\n",
        "    nlabels, labels, stats, centroids = cv2.connectedComponentsWithStats(img_dilation, None, None, None, 8, cv2.CV_32S)\r\n",
        "    sizes = stats[1:, -1] #get CC_STAT_AREA component\r\n",
        "    final = np.zeros((labels.shape), np.uint8)\r\n",
        "    for i in range(0, nlabels - 1):\r\n",
        "        if sizes[i] >= 10:   #filter small dotted regions\r\n",
        "            final[labels == i + 1] = 255\r\n",
        "    #cv2.imwrite(op_path+'final.png', final)\r\n",
        "    #Find contours\r\n",
        "    kern = np.ones((5,15), np.uint8)\r\n",
        "    img_dilation = cv2.dilate(final, kern, iterations = 1)\r\n",
        "    #cv2.imwrite(op_path+'contours.png', img_dilation)\r\n",
        "    contours, hierarchy = cv2.findContours(img_dilation, cv2.RETR_LIST, cv2.CHAIN_APPROX_NONE)\r\n",
        "    # Map contours to bounding rectangles, using bounding_rect property\r\n",
        "    rects = map(lambda c: cv2.boundingRect(c), contours)\r\n",
        "    # Sort rects by top-left x (rect.x == rect.tl.x)\r\n",
        "    sorted_rects = sorted(rects, key =lambda r: r[0])\r\n",
        "    sorted_rects = sorted(sorted_rects, key =lambda r: r[1])\r\n",
        "\r\n",
        "    tt = image.copy()\r\n",
        "    dictionary = {}\r\n",
        "    etfo=''\r\n",
        "    for i,rect in enumerate(sorted_rects):\r\n",
        "        temp_dic = {}\r\n",
        "        x,y,w,h = rect\r\n",
        "        if(w<20 or h<20):\r\n",
        "            continue\r\n",
        "        temp_dic['coords'] = [x,y,w,h]\r\n",
        "        words = []\r\n",
        "        temp = tt[y:y+h, x:x+w]\r\n",
        "        #cv2.imwrite('/content/gdrive/My Drive/ResearchPaper/AIESI_complete_pipeline/temp/'+str(i)+'.png',temp)\r\n",
        "        temp = cv2.cvtColor(temp, cv2.COLOR_BGR2RGB)\r\n",
        "        hi = pytesseract.image_to_data(temp, config=r'--psm 6')\r\n",
        "        hi = hi.split()\r\n",
        "        ind = 22\r\n",
        "        while(True):\r\n",
        "            if (ind>len(hi)):\r\n",
        "                break\r\n",
        "            if(int(hi[ind])==-1):\r\n",
        "                ind+=11\r\n",
        "            else:\r\n",
        "                #cv2.putText(image,hi[ind]+','+hi[ind+1], (x,y), font, fontScale,fontColor,lineType)\r\n",
        "                tem = {}\r\n",
        "                tem['confidence'] = hi[ind]\r\n",
        "                tem['text'] = hi[ind+1]\r\n",
        "                etfo=etfo+hi[ind+1]\r\n",
        "                etfo=etfo+\" \"\r\n",
        "                x+=len(hi[ind+1])*20\r\n",
        "                ind+=12\r\n",
        "                words.append(tem)\r\n",
        "        temp_dic['words'] = words\r\n",
        "        etfo=etfo+'\\n'\r\n",
        "        #cvw.rectangle(image, rect, cvw.Color.GREEN, thickness=1)\r\n",
        "        dictionary[i] = temp_dic\r\n",
        "\r\n",
        "\r\n",
        "    cv2.imwrite(op_path+\"result.png\", image)\r\n",
        "    return json.dumps(dictionary),etfo\r\n",
        "\r\n",
        "\r\n",
        "class MyModel0(nn.Module):\r\n",
        "    def __init__(self, vocab_size, embed_size, hidden_size):\r\n",
        "        super().__init__()\r\n",
        "        self.embed = nn.Embedding(vocab_size, embed_size)\r\n",
        "        self.lstm = nn.LSTM(embed_size, hidden_size, num_layers=2, bidirectional=True)\r\n",
        "        self.linear = nn.Linear(hidden_size * 2, 5)\r\n",
        "\r\n",
        "    def forward(self, inpt):\r\n",
        "        embedded = self.embed(inpt)\r\n",
        "        feature, _ = self.lstm(embedded)\r\n",
        "        oupt = self.linear(feature)\r\n",
        "        return oupt\r\n",
        "\r\n",
        "def get_test_data():\r\n",
        "    \r\n",
        "    text = etfo\r\n",
        "    text_tensor = torch.zeros(len(text), 1, dtype=torch.long)\r\n",
        "    text_tensor[:, 0] = torch.LongTensor([VOCAB.find(c) for c in text])\r\n",
        "\r\n",
        "    return text_tensor.to(device)\r\n",
        "\r\n",
        "def pred_to_dict(text, pred, prob):\r\n",
        "    res = {\"company\": (\"\", 0), \"date\": (\"\", 0), \"address\": (\"\", 0), \"total\": (\"\", 0)}\r\n",
        "    keys = list(res.keys())\r\n",
        "\r\n",
        "    seps = [0] + (numpy.nonzero(numpy.diff(pred))[0] + 1).tolist() + [len(pred)]\r\n",
        "    for i in range(len(seps) - 1):\r\n",
        "        pred_class = pred[seps[i]] - 1\r\n",
        "        if pred_class == -1:\r\n",
        "            continue\r\n",
        "\r\n",
        "        new_key = keys[pred_class]\r\n",
        "        new_prob = prob[seps[i] : seps[i + 1]].max()\r\n",
        "        if new_prob > res[new_key][1]:\r\n",
        "            res[new_key] = (text[seps[i] : seps[i + 1]], new_prob)\r\n",
        "\r\n",
        "    return {k: regex.sub(r\"[\\t\\n]\", \" \", v[0].strip()) for k, v in res.items()}\r\n",
        "\r\n",
        "\r\n",
        "def test():\r\n",
        "    print('-------------------------------loged test----------------------------------')\r\n",
        "    model = MyModel0(len(VOCAB), 16, hidden_size).to(device)\r\n",
        "    # dataset = MyDataset(None, args.device, test_path=\"/content/gdrive/My Drive/ResearchPaper/KIPE/data/test_dict.pth\")\r\n",
        "\r\n",
        "    model.load_state_dict(torch.load(\"/content/AIESI/AIESI_using_tesseract/model.pth\"))\r\n",
        "\r\n",
        "    model.eval()\r\n",
        "  \r\n",
        "    with torch.no_grad():\r\n",
        "            oupt = model(text_tensor)\r\n",
        "            prob = torch.nn.functional.softmax(oupt, dim=2)\r\n",
        "            prob, pred = torch.max(prob, dim=2)\r\n",
        "            prob = prob.squeeze().cpu().numpy()\r\n",
        "            pred = pred.squeeze().cpu().numpy()\r\n",
        "            real_text = etfo\r\n",
        "            result = pred_to_dict(real_text, pred, prob)\r\n",
        "\r\n",
        "            with open(\"/content/AIESI/AIESI_using_tesseract/results\" + 'result.txt' + \".txt\", \"w\", encoding=\"utf-8\") as json_opened:\r\n",
        "                json.dump(result, json_opened, indent=4)\r\n",
        "\r\n",
        "            print('-------------------------------result----------------------------------')\r\n",
        "            print(result)\r\n",
        "            #print(key)"
      ],
      "execution_count": 73,
      "outputs": []
    },
    {
      "cell_type": "code",
      "metadata": {
        "id": "WkyHV8TSIVNx"
      },
      "source": [
        "\r\n",
        "\r\n",
        "\r\n",
        "\r\n",
        "gson_data, etfo = get_acc('/content/AIESI/dataset/','1017-receipt.jpg')\r\n",
        "print('----------------gson_data---------------------------')\r\n",
        "print(gson_data)\r\n",
        "\r\n",
        "\r\n",
        "VOCAB= ascii_uppercase+digits+punctuation+\" \\t\\n\"\r\n",
        "temp_text=''\r\n",
        "for i in range(len(etfo)):\r\n",
        "    temp_text=temp_text+etfo[i]\r\n",
        "etfo=temp_text\r\n",
        "etfo= etfo.upper()\r\n",
        "print('--------------------etfo-----------------------')\r\n",
        "print(etfo)\r\n",
        "text_tensor = get_test_data()\r\n",
        "print('-------------------text_tensor------------------------')\r\n",
        "print(text_tensor.shape)\r\n",
        "for i in range(len(text_tensor)-1):\r\n",
        "  if text_tensor[i]<0 or text_tensor[i]>70:\r\n",
        "    text_tensor = torch.cat([text_tensor[0:i], text_tensor[i+1:]])\r\n",
        "test()"
      ],
      "execution_count": null,
      "outputs": []
    }
  ]
}