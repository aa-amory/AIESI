{
  "nbformat": 4,
  "nbformat_minor": 0,
  "metadata": {
    "colab": {
      "name": "AIESI_v5.ipynb",
      "provenance": [],
      "collapsed_sections": [],
      "include_colab_link": true
    },
    "kernelspec": {
      "name": "python3",
      "display_name": "Python 3"
    }
  },
  "cells": [
    {
      "cell_type": "markdown",
      "metadata": {
        "id": "view-in-github",
        "colab_type": "text"
      },
      "source": [
        "<a href=\"https://colab.research.google.com/github/aa-amory/AIESI/blob/master/AIESI_v5.ipynb\" target=\"_parent\"><img src=\"https://colab.research.google.com/assets/colab-badge.svg\" alt=\"Open In Colab\"/></a>"
      ]
    },
    {
      "cell_type": "code",
      "metadata": {
        "colab": {
          "base_uri": "https://localhost:8080/"
        },
        "id": "yZywuWnSGi1j",
        "outputId": "2591f21d-c689-482c-f4fd-531210409c37"
      },
      "source": [
        "!git clone https://github.com/aa-amory/AIESI.git"
      ],
      "execution_count": 1,
      "outputs": [
        {
          "output_type": "stream",
          "text": [
            "Cloning into 'AIESI'...\n",
            "remote: Enumerating objects: 23, done.\u001b[K\n",
            "remote: Counting objects: 100% (23/23), done.\u001b[K\n",
            "remote: Compressing objects: 100% (23/23), done.\u001b[K\n",
            "remote: Total 282 (delta 9), reused 0 (delta 0), pack-reused 259\u001b[K\n",
            "Receiving objects: 100% (282/282), 26.15 MiB | 35.19 MiB/s, done.\n",
            "Resolving deltas: 100% (28/28), done.\n"
          ],
          "name": "stdout"
        }
      ]
    },
    {
      "cell_type": "markdown",
      "metadata": {
        "id": "RyWX5xThdy5O"
      },
      "source": [
        "# PIP all required lib"
      ]
    },
    {
      "cell_type": "code",
      "metadata": {
        "id": "VgFm5iIEdZ5o",
        "colab": {
          "base_uri": "https://localhost:8080/",
          "height": 1000
        },
        "outputId": "3f1784da-7380-4668-d341-6e25dd014017"
      },
      "source": [
        "!pip install -U git+https://github.com/madmaze/pytesseract.git\n",
        "!sudo apt install tesseract-ocr\n",
        "!pip install colorama\n",
        "!pip install opencv_wrapper"
      ],
      "execution_count": 2,
      "outputs": [
        {
          "output_type": "stream",
          "text": [
            "Collecting git+https://github.com/madmaze/pytesseract.git\n",
            "  Cloning https://github.com/madmaze/pytesseract.git to /tmp/pip-req-build-4tzmi4gm\n",
            "  Running command git clone -q https://github.com/madmaze/pytesseract.git /tmp/pip-req-build-4tzmi4gm\n",
            "Requirement already satisfied, skipping upgrade: Pillow in /usr/local/lib/python3.7/dist-packages (from pytesseract==0.3.7) (7.0.0)\n",
            "Building wheels for collected packages: pytesseract\n",
            "  Building wheel for pytesseract (setup.py) ... \u001b[?25l\u001b[?25hdone\n",
            "  Created wheel for pytesseract: filename=pytesseract-0.3.7-py2.py3-none-any.whl size=14106 sha256=1cfe0494df2572e348dd9358a4bb069afd62efc23779fbcd99f8d689150f31f9\n",
            "  Stored in directory: /tmp/pip-ephem-wheel-cache-n8_ihvq8/wheels/be/2a/a1/a40dbc7e579dffb2be8bbc3243c491de2d132899309f008b1f\n",
            "Successfully built pytesseract\n",
            "Installing collected packages: pytesseract\n",
            "Successfully installed pytesseract-0.3.7\n",
            "Reading package lists... Done\n",
            "Building dependency tree       \n",
            "Reading state information... Done\n",
            "The following additional packages will be installed:\n",
            "  tesseract-ocr-eng tesseract-ocr-osd\n",
            "The following NEW packages will be installed:\n",
            "  tesseract-ocr tesseract-ocr-eng tesseract-ocr-osd\n",
            "0 upgraded, 3 newly installed, 0 to remove and 30 not upgraded.\n",
            "Need to get 4,795 kB of archives.\n",
            "After this operation, 15.8 MB of additional disk space will be used.\n",
            "Get:1 http://archive.ubuntu.com/ubuntu bionic/universe amd64 tesseract-ocr-eng all 4.00~git24-0e00fe6-1.2 [1,588 kB]\n",
            "Get:2 http://archive.ubuntu.com/ubuntu bionic/universe amd64 tesseract-ocr-osd all 4.00~git24-0e00fe6-1.2 [2,989 kB]\n",
            "Get:3 http://archive.ubuntu.com/ubuntu bionic/universe amd64 tesseract-ocr amd64 4.00~git2288-10f4998a-2 [218 kB]\n",
            "Fetched 4,795 kB in 2s (3,075 kB/s)\n",
            "debconf: unable to initialize frontend: Dialog\n",
            "debconf: (No usable dialog-like program is installed, so the dialog based frontend cannot be used. at /usr/share/perl5/Debconf/FrontEnd/Dialog.pm line 76, <> line 3.)\n",
            "debconf: falling back to frontend: Readline\n",
            "debconf: unable to initialize frontend: Readline\n",
            "debconf: (This frontend requires a controlling tty.)\n",
            "debconf: falling back to frontend: Teletype\n",
            "dpkg-preconfigure: unable to re-open stdin: \n",
            "Selecting previously unselected package tesseract-ocr-eng.\n",
            "(Reading database ... 160980 files and directories currently installed.)\n",
            "Preparing to unpack .../tesseract-ocr-eng_4.00~git24-0e00fe6-1.2_all.deb ...\n",
            "Unpacking tesseract-ocr-eng (4.00~git24-0e00fe6-1.2) ...\n",
            "Selecting previously unselected package tesseract-ocr-osd.\n",
            "Preparing to unpack .../tesseract-ocr-osd_4.00~git24-0e00fe6-1.2_all.deb ...\n",
            "Unpacking tesseract-ocr-osd (4.00~git24-0e00fe6-1.2) ...\n",
            "Selecting previously unselected package tesseract-ocr.\n",
            "Preparing to unpack .../tesseract-ocr_4.00~git2288-10f4998a-2_amd64.deb ...\n",
            "Unpacking tesseract-ocr (4.00~git2288-10f4998a-2) ...\n",
            "Setting up tesseract-ocr-osd (4.00~git24-0e00fe6-1.2) ...\n",
            "Setting up tesseract-ocr-eng (4.00~git24-0e00fe6-1.2) ...\n",
            "Setting up tesseract-ocr (4.00~git2288-10f4998a-2) ...\n",
            "Processing triggers for man-db (2.8.3-2ubuntu0.1) ...\n",
            "Collecting colorama\n",
            "  Downloading https://files.pythonhosted.org/packages/44/98/5b86278fbbf250d239ae0ecb724f8572af1c91f4a11edf4d36a206189440/colorama-0.4.4-py2.py3-none-any.whl\n",
            "Installing collected packages: colorama\n",
            "Successfully installed colorama-0.4.4\n",
            "Collecting opencv_wrapper\n",
            "  Downloading https://files.pythonhosted.org/packages/a6/35/07177ec8074623831493c793643b6ec8c444fbc0d7f73a9dfdba486ce65a/opencv-wrapper-0.2.3.tar.gz\n",
            "Collecting numpy<=1.16.2\n",
            "\u001b[?25l  Downloading https://files.pythonhosted.org/packages/91/e7/6c780e612d245cca62bc3ba8e263038f7c144a96a54f877f3714a0e8427e/numpy-1.16.2-cp37-cp37m-manylinux1_x86_64.whl (17.3MB)\n",
            "\u001b[K     |████████████████████████████████| 17.3MB 1.6MB/s \n",
            "\u001b[?25hCollecting opencv-python<=4.0.1\n",
            "\u001b[?25l  Downloading https://files.pythonhosted.org/packages/45/bd/e0a4391ac105ecf73a6e14372174b05774634c7c6454e49c38750d516eee/opencv_python-4.0.0.21-cp37-cp37m-manylinux1_x86_64.whl (25.4MB)\n",
            "\u001b[K     |████████████████████████████████| 25.4MB 1.5MB/s \n",
            "\u001b[?25hBuilding wheels for collected packages: opencv-wrapper\n",
            "  Building wheel for opencv-wrapper (setup.py) ... \u001b[?25l\u001b[?25hdone\n",
            "  Created wheel for opencv-wrapper: filename=opencv_wrapper-0.2.3-py2.py3-none-any.whl size=18575 sha256=a049d42c0e163a8776c2d9b6a74b3732f3369ac241e2157042ccc7f22b2aa0b2\n",
            "  Stored in directory: /root/.cache/pip/wheels/74/fc/22/03106b3bcb2516e69317562a2aa4ceb94b0d5813a448edd928\n",
            "Successfully built opencv-wrapper\n",
            "\u001b[31mERROR: umap-learn 0.5.1 has requirement numpy>=1.17, but you'll have numpy 1.16.2 which is incompatible.\u001b[0m\n",
            "\u001b[31mERROR: tensorflow 2.4.1 has requirement numpy~=1.19.2, but you'll have numpy 1.16.2 which is incompatible.\u001b[0m\n",
            "\u001b[31mERROR: pyarrow 3.0.0 has requirement numpy>=1.16.6, but you'll have numpy 1.16.2 which is incompatible.\u001b[0m\n",
            "\u001b[31mERROR: datascience 0.10.6 has requirement folium==0.2.1, but you'll have folium 0.8.3 which is incompatible.\u001b[0m\n",
            "\u001b[31mERROR: astropy 4.2 has requirement numpy>=1.17, but you'll have numpy 1.16.2 which is incompatible.\u001b[0m\n",
            "\u001b[31mERROR: albumentations 0.1.12 has requirement imgaug<0.2.7,>=0.2.5, but you'll have imgaug 0.2.9 which is incompatible.\u001b[0m\n",
            "Installing collected packages: numpy, opencv-python, opencv-wrapper\n",
            "  Found existing installation: numpy 1.19.5\n",
            "    Uninstalling numpy-1.19.5:\n",
            "      Successfully uninstalled numpy-1.19.5\n",
            "  Found existing installation: opencv-python 4.1.2.30\n",
            "    Uninstalling opencv-python-4.1.2.30:\n",
            "      Successfully uninstalled opencv-python-4.1.2.30\n",
            "Successfully installed numpy-1.16.2 opencv-python-4.0.0.21 opencv-wrapper-0.2.3\n"
          ],
          "name": "stdout"
        },
        {
          "output_type": "display_data",
          "data": {
            "application/vnd.colab-display-data+json": {
              "pip_warning": {
                "packages": [
                  "numpy"
                ]
              }
            }
          },
          "metadata": {
            "tags": []
          }
        }
      ]
    },
    {
      "cell_type": "markdown",
      "metadata": {
        "id": "b7x9C_ufMx9b"
      },
      "source": [
        "# Import libs"
      ]
    },
    {
      "cell_type": "code",
      "metadata": {
        "id": "6dOLid4WM4Jy"
      },
      "source": [
        "import json\n",
        "import os\n",
        "import random\n",
        "from os import path\n",
        "from string import ascii_uppercase, digits, punctuation\n",
        "import colorama\n",
        "import regex\n",
        "import torch\n",
        "from torch import nn\n",
        "import pytesseract\n",
        "import cv2\n",
        "import argparse\n",
        "import numpy as np\n",
        "import opencv_wrapper as cvw\n",
        "from skimage.filters import threshold_local"
      ],
      "execution_count": 1,
      "outputs": []
    },
    {
      "cell_type": "markdown",
      "metadata": {
        "id": "qbs9mVYOziyI"
      },
      "source": [
        "### Hyper- parameters"
      ]
    },
    {
      "cell_type": "code",
      "metadata": {
        "id": "x3YGzBc9zh9g"
      },
      "source": [
        "device= 'cpu'\n",
        "hidden_size = 256\n",
        "VOCAB= ascii_uppercase+digits+punctuation+\" \\t\\n\"\n",
        "device= torch.device('cpu')"
      ],
      "execution_count": 2,
      "outputs": []
    },
    {
      "cell_type": "markdown",
      "metadata": {
        "id": "_NLchCHPeO89"
      },
      "source": [
        "# full code"
      ]
    },
    {
      "cell_type": "code",
      "metadata": {
        "id": "-5UecDajfpVT"
      },
      "source": [
        "def get_acc(directory, path):\n",
        "    font     = cv2.FONT_HERSHEY_SIMPLEX\n",
        "    fontScale = 0.5\n",
        "    fontColor  = (255,0,0)\n",
        "    lineType = 1\n",
        "    path = directory+path\n",
        "    # path = args['image']\n",
        "    # op_path = args['output']\n",
        "\n",
        "    op_path = directory\n",
        "    if op_path[-1]!='/':\n",
        "    \top_path.append('/')\n",
        "\n",
        "\n",
        "    #Threshold\n",
        "    image = cv2.imread(path)\n",
        "\n",
        "    height,width,channel = image.shape\n",
        "\n",
        "    gray = cv2.cvtColor(image, cv2.COLOR_BGR2GRAY)\n",
        "\n",
        "    T = threshold_local(gray, 15, offset = 6, method = \"gaussian\") # generic, mean, median, gaussian\n",
        "    thresh = (gray > T).astype(\"uint8\") * 255\n",
        "    thresh = ~thresh\n",
        "\n",
        "    #cv2.imwrite(op_path+'threshold.png', thresh)\n",
        "\n",
        "    #Dilation\n",
        "    kernel =np.ones((1,1), np.uint8)\n",
        "    ero = cv2.erode(thresh, kernel, iterations= 1)\n",
        "    img_dilation = cv2.dilate(ero, kernel, iterations=1)\n",
        "    #cv2.imwrite(op_path+'dilated.png', img_dilation)\n",
        "\n",
        "    # Remove noise\n",
        "    nlabels, labels, stats, centroids = cv2.connectedComponentsWithStats(img_dilation, None, None, None, 8, cv2.CV_32S)\n",
        "    sizes = stats[1:, -1] #get CC_STAT_AREA component\n",
        "    final = np.zeros((labels.shape), np.uint8)\n",
        "    for i in range(0, nlabels - 1):\n",
        "        if sizes[i] >= 10:   #filter small dotted regions\n",
        "            final[labels == i + 1] = 255\n",
        "    #cv2.imwrite(op_path+'final.png', final)\n",
        "    #Find contours\n",
        "    kern = np.ones((5,15), np.uint8)\n",
        "    img_dilation = cv2.dilate(final, kern, iterations = 1)\n",
        "    #cv2.imwrite(op_path+'contours.png', img_dilation)\n",
        "    contours, hierarchy = cv2.findContours(img_dilation, cv2.RETR_LIST, cv2.CHAIN_APPROX_NONE)\n",
        "    # Map contours to bounding rectangles, using bounding_rect property\n",
        "    rects = map(lambda c: cv2.boundingRect(c), contours)\n",
        "    # Sort rects by top-left x (rect.x == rect.tl.x)\n",
        "    sorted_rects = sorted(rects, key =lambda r: r[0])\n",
        "    sorted_rects = sorted(sorted_rects, key =lambda r: r[1])\n",
        "\n",
        "    tt = image.copy()\n",
        "    dictionary = {}\n",
        "    etfo=''\n",
        "    for i,rect in enumerate(sorted_rects):\n",
        "        temp_dic = {}\n",
        "        x,y,w,h = rect\n",
        "        if(w<20 or h<20):\n",
        "            continue\n",
        "        temp_dic['coords'] = [x,y,w,h]\n",
        "        words = []\n",
        "        temp = tt[y:y+h, x:x+w]\n",
        "        #cv2.imwrite('/content/gdrive/My Drive/ResearchPaper/AIESI_complete_pipeline/temp/'+str(i)+'.png',temp)\n",
        "        temp = cv2.cvtColor(temp, cv2.COLOR_BGR2RGB)\n",
        "        hi = pytesseract.image_to_data(temp, config=r'--psm 6')\n",
        "        hi = hi.split()\n",
        "        ind = 22\n",
        "        while(True):\n",
        "            if (ind>len(hi)):\n",
        "                break\n",
        "            if(int(hi[ind])==-1):\n",
        "                ind+=11\n",
        "            else:\n",
        "                #cv2.putText(image,hi[ind]+','+hi[ind+1], (x,y), font, fontScale,fontColor,lineType)\n",
        "                tem = {}\n",
        "                tem['confidence'] = hi[ind]\n",
        "                tem['text'] = hi[ind+1]\n",
        "                etfo=etfo+hi[ind+1]\n",
        "                etfo=etfo+\" \"\n",
        "                x+=len(hi[ind+1])*20\n",
        "                ind+=12\n",
        "                words.append(tem)\n",
        "        temp_dic['words'] = words\n",
        "        etfo=etfo+'\\n'\n",
        "        #cvw.rectangle(image, rect, cvw.Color.GREEN, thickness=1)\n",
        "        dictionary[i] = temp_dic\n",
        "\n",
        "\n",
        "    cv2.imwrite(op_path+\"result.png\", image)\n",
        "    return json.dumps(dictionary),etfo\n",
        "\n",
        "\n",
        "class MyModel0(nn.Module):\n",
        "    def __init__(self, vocab_size, embed_size, hidden_size):\n",
        "        super().__init__()\n",
        "        self.embed = nn.Embedding(vocab_size, embed_size)\n",
        "        self.lstm = nn.LSTM(embed_size, hidden_size, num_layers=2, bidirectional=True)\n",
        "        self.linear = nn.Linear(hidden_size * 2, 5)\n",
        "\n",
        "    def forward(self, inpt):\n",
        "        embedded = self.embed(inpt)\n",
        "        feature, _ = self.lstm(embedded)\n",
        "        oupt = self.linear(feature)\n",
        "        return oupt\n",
        "\n",
        "def get_test_data(etfo_input):\n",
        "    \n",
        "    text = etfo_input\n",
        "    text_tensor = torch.zeros(len(text), 1, dtype=torch.long)\n",
        "    text_tensor[:, 0] = torch.LongTensor([VOCAB.find(c) for c in text])\n",
        "\n",
        "    return text_tensor.to(device)\n",
        "\n",
        "def pred_to_dict(text, pred, prob):\n",
        "    res = {\"company\": (\"\", 0), \"date\": (\"\", 0), \"address\": (\"\", 0), \"total\": (\"\", 0)}\n",
        "    keys = list(res.keys())\n",
        "\n",
        "    seps = [0] + (np.nonzero(np.diff(pred))[0] + 1).tolist() + [len(pred)]\n",
        "    for i in range(len(seps) - 1):\n",
        "        pred_class = pred[seps[i]] - 1\n",
        "        if pred_class == -1:\n",
        "            continue\n",
        "\n",
        "        new_key = keys[pred_class]\n",
        "        new_prob = prob[seps[i] : seps[i + 1]].max()\n",
        "        if new_prob > res[new_key][1]:\n",
        "            res[new_key] = (text[seps[i] : seps[i + 1]], new_prob)\n",
        "\n",
        "    return {k: regex.sub(r\"[\\t\\n]\", \" \", v[0].strip()) for k, v in res.items()}\n",
        "\n",
        "\n",
        "def test(text_tensor):\n",
        "    #print('-------------------------------loged test----------------------------------')\n",
        "    model = MyModel0(len(VOCAB), 16, hidden_size).to(device)\n",
        "    # dataset = MyDataset(None, args.device, test_path=\"/content/gdrive/My Drive/ResearchPaper/KIPE/data/test_dict.pth\")\n",
        "\n",
        "    model.load_state_dict(torch.load(\"/content/AIESI/AIESI_using_tesseract/model.pth\"))\n",
        "\n",
        "    model.eval()\n",
        "  \n",
        "    with torch.no_grad():\n",
        "            oupt = model(text_tensor)\n",
        "            #print('-----model----oupt----------')\n",
        "            #print(oupt)\n",
        "            prob = torch.nn.functional.softmax(oupt, dim=2)\n",
        "            #print('-------prob.shape-----------')\n",
        "            #print(prob.shape)\n",
        "            #print('-------prob-----------')\n",
        "            #print(prob)\n",
        "            prob, pred = torch.max(prob, dim=2)\n",
        "            #print('-------prob .max-----------')\n",
        "            #print(prob)\n",
        "            #print('-------pred .max-----------')\n",
        "            #print(pred)\n",
        "            prob = prob.squeeze().cpu().numpy()\n",
        "            pred = pred.squeeze().cpu().numpy()\n",
        "            #print('-------prob.squeeze---------')\n",
        "            #print(prob)\n",
        "            #print('---------pred.squeeze----------')\n",
        "            #print(pred)\n",
        "            real_text = etfo\n",
        "            #real_text=text_tensor\n",
        "            result = pred_to_dict(real_text, pred, prob)\n",
        "\n",
        "            with open(\"/content/AIESI/AIESI_using_tesseract/results\" + 'result.txt' + \".txt\", \"w\", encoding=\"utf-8\") as json_opened:\n",
        "                json.dump(result, json_opened, indent=4)\n",
        "\n",
        "            print('-------------------------------result----------------------------------')\n",
        "            print(result)\n",
        "            #print(key)\n",
        "\n",
        "\n",
        "def pre_text(img_name):\n",
        "  gson_data, etfo = get_acc('/content/AIESI/invoices/',img_name)\n",
        "  #print('----------------gson_data---------------------------')\n",
        "  #print(gson_data)\n",
        "\n",
        "\n",
        "  \n",
        "  temp_text=''\n",
        "  for i in range(len(etfo)):\n",
        "      temp_text=temp_text+etfo[i]\n",
        "  etfo=temp_text\n",
        "  etfo= etfo.upper()\n",
        "  print('--------------------etfo-----------------------')\n",
        "  print(etfo)\n",
        "  #text_tensor = get_test_data()\n",
        "  text_tensor = get_test_data(etfo)\n",
        "  #print('-------------------text_tensor------------------------')\n",
        "  #print(text_tensor.shape)\n",
        "  '''for i in range(0,(len(text_tensor)-1)):\n",
        "    if text_tensor[i]<0 or text_tensor[i]>70:\n",
        "      text_tensor = torch.cat([text_tensor[0:i], text_tensor[i+1:]])\n",
        "    ''' \n",
        "  text_tensor=text_tensor[text_tensor[:, 0] > 0]\n",
        "  text_tensor=text_tensor[text_tensor[:, 0] < 70]\n",
        "  return text_tensor,etfo"
      ],
      "execution_count": 5,
      "outputs": []
    },
    {
      "cell_type": "code",
      "metadata": {
        "id": "WkyHV8TSIVNx"
      },
      "source": [
        "#KVE for single image\n",
        "img_name='1003-receipt.jpg'\n",
        "text_tsr,etfo=pre_text(img_name)\n",
        "test(text_tsr)"
      ],
      "execution_count": null,
      "outputs": []
    },
    {
      "cell_type": "code",
      "metadata": {
        "id": "zwXmFBJG3Tdo"
      },
      "source": [
        "#KVE for batch of images\n",
        "from os import walk\n",
        "filenames='start_itr'\n",
        "_, _, filenames = next(walk('/content/AIESI/invoices/'),\"itr_end\")\n",
        "for f in range(0,len(filenames)-1):\n",
        "  print('----------'+filenames[f]+'--------------')\n",
        "  if filenames[f]!='inv_list.txt':\n",
        "    img_name=filenames[f]\n",
        "    text_tsr,etfo=pre_text(img_name)\n",
        "    test(text_tsr)"
      ],
      "execution_count": null,
      "outputs": []
    }
  ]
}